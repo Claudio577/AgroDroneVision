{
  "nbformat": 4,
  "nbformat_minor": 0,
  "metadata": {
    "colab": {
      "provenance": [],
      "authorship_tag": "ABX9TyPokgk9TGMc3TXif3QLCo9w",
      "include_colab_link": true
    },
    "kernelspec": {
      "name": "python3",
      "display_name": "Python 3"
    },
    "language_info": {
      "name": "python"
    },
    "widgets": {
      "application/vnd.jupyter.widget-state+json": {
        "1306d9fe6f0545a39cabc05bcf064818": {
          "model_module": "@jupyter-widgets/controls",
          "model_name": "FloatTextModel",
          "model_module_version": "1.5.0",
          "state": {
            "_dom_classes": [],
            "_model_module": "@jupyter-widgets/controls",
            "_model_module_version": "1.5.0",
            "_model_name": "FloatTextModel",
            "_view_count": null,
            "_view_module": "@jupyter-widgets/controls",
            "_view_module_version": "1.5.0",
            "_view_name": "FloatTextView",
            "continuous_update": false,
            "description": "Latitude:",
            "description_tooltip": null,
            "disabled": false,
            "layout": "IPY_MODEL_772a38ff83cb46fabeb9fc7edf82bfa5",
            "step": 0.01,
            "style": "IPY_MODEL_deab8d6dba334ba58fc74001994ec059",
            "value": -12.545
          }
        },
        "772a38ff83cb46fabeb9fc7edf82bfa5": {
          "model_module": "@jupyter-widgets/base",
          "model_name": "LayoutModel",
          "model_module_version": "1.2.0",
          "state": {
            "_model_module": "@jupyter-widgets/base",
            "_model_module_version": "1.2.0",
            "_model_name": "LayoutModel",
            "_view_count": null,
            "_view_module": "@jupyter-widgets/base",
            "_view_module_version": "1.2.0",
            "_view_name": "LayoutView",
            "align_content": null,
            "align_items": null,
            "align_self": null,
            "border": null,
            "bottom": null,
            "display": null,
            "flex": null,
            "flex_flow": null,
            "grid_area": null,
            "grid_auto_columns": null,
            "grid_auto_flow": null,
            "grid_auto_rows": null,
            "grid_column": null,
            "grid_gap": null,
            "grid_row": null,
            "grid_template_areas": null,
            "grid_template_columns": null,
            "grid_template_rows": null,
            "height": null,
            "justify_content": null,
            "justify_items": null,
            "left": null,
            "margin": null,
            "max_height": null,
            "max_width": null,
            "min_height": null,
            "min_width": null,
            "object_fit": null,
            "object_position": null,
            "order": null,
            "overflow": null,
            "overflow_x": null,
            "overflow_y": null,
            "padding": null,
            "right": null,
            "top": null,
            "visibility": null,
            "width": null
          }
        },
        "deab8d6dba334ba58fc74001994ec059": {
          "model_module": "@jupyter-widgets/controls",
          "model_name": "DescriptionStyleModel",
          "model_module_version": "1.5.0",
          "state": {
            "_model_module": "@jupyter-widgets/controls",
            "_model_module_version": "1.5.0",
            "_model_name": "DescriptionStyleModel",
            "_view_count": null,
            "_view_module": "@jupyter-widgets/base",
            "_view_module_version": "1.2.0",
            "_view_name": "StyleView",
            "description_width": ""
          }
        },
        "c5d6fd21cd56470786732119eb19a9fc": {
          "model_module": "@jupyter-widgets/controls",
          "model_name": "FloatTextModel",
          "model_module_version": "1.5.0",
          "state": {
            "_dom_classes": [],
            "_model_module": "@jupyter-widgets/controls",
            "_model_module_version": "1.5.0",
            "_model_name": "FloatTextModel",
            "_view_count": null,
            "_view_module": "@jupyter-widgets/controls",
            "_view_module_version": "1.5.0",
            "_view_name": "FloatTextView",
            "continuous_update": false,
            "description": "Longitude:",
            "description_tooltip": null,
            "disabled": false,
            "layout": "IPY_MODEL_01113630b77743968f2709fe8b2c2f98",
            "step": 0.01,
            "style": "IPY_MODEL_d785930b2a6645f6bc74911027bf93b3",
            "value": -55.72
          }
        },
        "01113630b77743968f2709fe8b2c2f98": {
          "model_module": "@jupyter-widgets/base",
          "model_name": "LayoutModel",
          "model_module_version": "1.2.0",
          "state": {
            "_model_module": "@jupyter-widgets/base",
            "_model_module_version": "1.2.0",
            "_model_name": "LayoutModel",
            "_view_count": null,
            "_view_module": "@jupyter-widgets/base",
            "_view_module_version": "1.2.0",
            "_view_name": "LayoutView",
            "align_content": null,
            "align_items": null,
            "align_self": null,
            "border": null,
            "bottom": null,
            "display": null,
            "flex": null,
            "flex_flow": null,
            "grid_area": null,
            "grid_auto_columns": null,
            "grid_auto_flow": null,
            "grid_auto_rows": null,
            "grid_column": null,
            "grid_gap": null,
            "grid_row": null,
            "grid_template_areas": null,
            "grid_template_columns": null,
            "grid_template_rows": null,
            "height": null,
            "justify_content": null,
            "justify_items": null,
            "left": null,
            "margin": null,
            "max_height": null,
            "max_width": null,
            "min_height": null,
            "min_width": null,
            "object_fit": null,
            "object_position": null,
            "order": null,
            "overflow": null,
            "overflow_x": null,
            "overflow_y": null,
            "padding": null,
            "right": null,
            "top": null,
            "visibility": null,
            "width": null
          }
        },
        "d785930b2a6645f6bc74911027bf93b3": {
          "model_module": "@jupyter-widgets/controls",
          "model_name": "DescriptionStyleModel",
          "model_module_version": "1.5.0",
          "state": {
            "_model_module": "@jupyter-widgets/controls",
            "_model_module_version": "1.5.0",
            "_model_name": "DescriptionStyleModel",
            "_view_count": null,
            "_view_module": "@jupyter-widgets/base",
            "_view_module_version": "1.2.0",
            "_view_name": "StyleView",
            "description_width": ""
          }
        },
        "eebeef25be7d41afb24de68e5562b05f": {
          "model_module": "@jupyter-widgets/controls",
          "model_name": "ButtonModel",
          "model_module_version": "1.5.0",
          "state": {
            "_dom_classes": [],
            "_model_module": "@jupyter-widgets/controls",
            "_model_module_version": "1.5.0",
            "_model_name": "ButtonModel",
            "_view_count": null,
            "_view_module": "@jupyter-widgets/controls",
            "_view_module_version": "1.5.0",
            "_view_name": "ButtonView",
            "button_style": "success",
            "description": "🛰️ Gerar NDVI",
            "disabled": false,
            "icon": "",
            "layout": "IPY_MODEL_2a87c31ee8244d01bfb5f330fe623b55",
            "style": "IPY_MODEL_211105f4f04f4f2cab841837534edf1c",
            "tooltip": ""
          }
        },
        "2a87c31ee8244d01bfb5f330fe623b55": {
          "model_module": "@jupyter-widgets/base",
          "model_name": "LayoutModel",
          "model_module_version": "1.2.0",
          "state": {
            "_model_module": "@jupyter-widgets/base",
            "_model_module_version": "1.2.0",
            "_model_name": "LayoutModel",
            "_view_count": null,
            "_view_module": "@jupyter-widgets/base",
            "_view_module_version": "1.2.0",
            "_view_name": "LayoutView",
            "align_content": null,
            "align_items": null,
            "align_self": null,
            "border": null,
            "bottom": null,
            "display": null,
            "flex": null,
            "flex_flow": null,
            "grid_area": null,
            "grid_auto_columns": null,
            "grid_auto_flow": null,
            "grid_auto_rows": null,
            "grid_column": null,
            "grid_gap": null,
            "grid_row": null,
            "grid_template_areas": null,
            "grid_template_columns": null,
            "grid_template_rows": null,
            "height": null,
            "justify_content": null,
            "justify_items": null,
            "left": null,
            "margin": null,
            "max_height": null,
            "max_width": null,
            "min_height": null,
            "min_width": null,
            "object_fit": null,
            "object_position": null,
            "order": null,
            "overflow": null,
            "overflow_x": null,
            "overflow_y": null,
            "padding": null,
            "right": null,
            "top": null,
            "visibility": null,
            "width": null
          }
        },
        "211105f4f04f4f2cab841837534edf1c": {
          "model_module": "@jupyter-widgets/controls",
          "model_name": "ButtonStyleModel",
          "model_module_version": "1.5.0",
          "state": {
            "_model_module": "@jupyter-widgets/controls",
            "_model_module_version": "1.5.0",
            "_model_name": "ButtonStyleModel",
            "_view_count": null,
            "_view_module": "@jupyter-widgets/base",
            "_view_module_version": "1.2.0",
            "_view_name": "StyleView",
            "button_color": null,
            "font_weight": ""
          }
        },
        "7abb371a900e448485d035f9d73ee967": {
          "model_module": "@jupyter-widgets/output",
          "model_name": "OutputModel",
          "model_module_version": "1.0.0",
          "state": {
            "_dom_classes": [],
            "_model_module": "@jupyter-widgets/output",
            "_model_module_version": "1.0.0",
            "_model_name": "OutputModel",
            "_view_count": null,
            "_view_module": "@jupyter-widgets/output",
            "_view_module_version": "1.0.0",
            "_view_name": "OutputView",
            "layout": "IPY_MODEL_2b6af9766846402aa46301fb6277b598",
            "msg_id": "",
            "outputs": [
              {
                "output_type": "stream",
                "name": "stdout",
                "text": [
                  "📍 Gerando NDVI para Latitude=-12.545, Longitude=-55.72...\n"
                ]
              },
              {
                "output_type": "stream",
                "name": "stdout",
                "text": [
                  "✅ NDVI gerado com sucesso! Exibindo mapa abaixo 👇\n"
                ]
              },
              {
                "output_type": "display_data",
                "data": {
                  "text/plain": "<folium.folium.Map at 0x7c36f24b23c0>",
                  "text/html": "<div style=\"width:100%;\"><div style=\"position:relative;width:100%;height:0;padding-bottom:60%;\"><span style=\"color:#565656\">Make this Notebook Trusted to load map: File -> Trust Notebook</span><iframe srcdoc=\"&lt;!DOCTYPE html&gt;\n&lt;html&gt;\n&lt;head&gt;\n    \n    &lt;meta http-equiv=&quot;content-type&quot; content=&quot;text/html; charset=UTF-8&quot; /&gt;\n    &lt;script src=&quot;https://cdn.jsdelivr.net/npm/leaflet@1.9.3/dist/leaflet.js&quot;&gt;&lt;/script&gt;\n    &lt;script src=&quot;https://code.jquery.com/jquery-3.7.1.min.js&quot;&gt;&lt;/script&gt;\n    &lt;script src=&quot;https://cdn.jsdelivr.net/npm/bootstrap@5.2.2/dist/js/bootstrap.bundle.min.js&quot;&gt;&lt;/script&gt;\n    &lt;script src=&quot;https://cdnjs.cloudflare.com/ajax/libs/Leaflet.awesome-markers/2.0.2/leaflet.awesome-markers.js&quot;&gt;&lt;/script&gt;\n    &lt;link rel=&quot;stylesheet&quot; href=&quot;https://cdn.jsdelivr.net/npm/leaflet@1.9.3/dist/leaflet.css&quot;/&gt;\n    &lt;link rel=&quot;stylesheet&quot; href=&quot;https://cdn.jsdelivr.net/npm/bootstrap@5.2.2/dist/css/bootstrap.min.css&quot;/&gt;\n    &lt;link rel=&quot;stylesheet&quot; href=&quot;https://netdna.bootstrapcdn.com/bootstrap/3.0.0/css/bootstrap-glyphicons.css&quot;/&gt;\n    &lt;link rel=&quot;stylesheet&quot; href=&quot;https://cdn.jsdelivr.net/npm/@fortawesome/fontawesome-free@6.2.0/css/all.min.css&quot;/&gt;\n    &lt;link rel=&quot;stylesheet&quot; href=&quot;https://cdnjs.cloudflare.com/ajax/libs/Leaflet.awesome-markers/2.0.2/leaflet.awesome-markers.css&quot;/&gt;\n    &lt;link rel=&quot;stylesheet&quot; href=&quot;https://cdn.jsdelivr.net/gh/python-visualization/folium/folium/templates/leaflet.awesome.rotate.min.css&quot;/&gt;\n    \n            &lt;meta name=&quot;viewport&quot; content=&quot;width=device-width,\n                initial-scale=1.0, maximum-scale=1.0, user-scalable=no&quot; /&gt;\n            &lt;style&gt;\n                #map_ac5babf15c08a19ac8f34571e16cbf8c {\n                    position: relative;\n                    width: 100.0%;\n                    height: 100.0%;\n                    left: 0.0%;\n                    top: 0.0%;\n                }\n                .leaflet-container { font-size: 1rem; }\n            &lt;/style&gt;\n\n            &lt;style&gt;html, body {\n                width: 100%;\n                height: 100%;\n                margin: 0;\n                padding: 0;\n            }\n            &lt;/style&gt;\n\n            &lt;style&gt;#map {\n                position:absolute;\n                top:0;\n                bottom:0;\n                right:0;\n                left:0;\n                }\n            &lt;/style&gt;\n\n            &lt;script&gt;\n                L_NO_TOUCH = false;\n                L_DISABLE_3D = false;\n            &lt;/script&gt;\n\n        \n    \n            \n                &lt;style&gt;\n                    .leaflet-image-layer {\n                        /* old android/safari*/\n                        image-rendering: -webkit-optimize-contrast;\n                        image-rendering: crisp-edges; /* safari */\n                        image-rendering: pixelated; /* chrome */\n                        image-rendering: -moz-crisp-edges; /* firefox */\n                        image-rendering: -o-crisp-edges; /* opera */\n                        -ms-interpolation-mode: nearest-neighbor; /* ie */\n                    }\n                &lt;/style&gt;\n            \n        \n&lt;/head&gt;\n&lt;body&gt;\n    \n    \n            &lt;div class=&quot;folium-map&quot; id=&quot;map_ac5babf15c08a19ac8f34571e16cbf8c&quot; &gt;&lt;/div&gt;\n        \n&lt;/body&gt;\n&lt;script&gt;\n    \n    \n            var map_ac5babf15c08a19ac8f34571e16cbf8c = L.map(\n                &quot;map_ac5babf15c08a19ac8f34571e16cbf8c&quot;,\n                {\n                    center: [-12.545, -55.72],\n                    crs: L.CRS.EPSG3857,\n                    ...{\n  &quot;zoom&quot;: 12,\n  &quot;zoomControl&quot;: true,\n  &quot;preferCanvas&quot;: false,\n}\n\n                }\n            );\n\n            \n\n        \n    \n            var tile_layer_5df9cc9f147d33fd8ac9d428fd95eaf1 = L.tileLayer(\n                &quot;https://tile.openstreetmap.org/{z}/{x}/{y}.png&quot;,\n                {\n  &quot;minZoom&quot;: 0,\n  &quot;maxZoom&quot;: 19,\n  &quot;maxNativeZoom&quot;: 19,\n  &quot;noWrap&quot;: false,\n  &quot;attribution&quot;: &quot;\\u0026copy; \\u003ca href=\\&quot;https://www.openstreetmap.org/copyright\\&quot;\\u003eOpenStreetMap\\u003c/a\\u003e contributors&quot;,\n  &quot;subdomains&quot;: &quot;abc&quot;,\n  &quot;detectRetina&quot;: false,\n  &quot;tms&quot;: false,\n  &quot;opacity&quot;: 1,\n}\n\n            );\n        \n    \n            tile_layer_5df9cc9f147d33fd8ac9d428fd95eaf1.addTo(map_ac5babf15c08a19ac8f34571e16cbf8c);\n        \n    \n            var tile_layer_158891193f9924107d63a7661f35897c = L.tileLayer(\n                &quot;https://{s}.basemaps.cartocdn.com/light_all/{z}/{x}/{y}{r}.png&quot;,\n                {\n  &quot;minZoom&quot;: 0,\n  &quot;maxZoom&quot;: 20,\n  &quot;maxNativeZoom&quot;: 20,\n  &quot;noWrap&quot;: false,\n  &quot;attribution&quot;: &quot;\\u0026copy; \\u003ca href=\\&quot;https://www.openstreetmap.org/copyright\\&quot;\\u003eOpenStreetMap\\u003c/a\\u003e contributors \\u0026copy; \\u003ca href=\\&quot;https://carto.com/attributions\\&quot;\\u003eCARTO\\u003c/a\\u003e&quot;,\n  &quot;subdomains&quot;: &quot;abcd&quot;,\n  &quot;detectRetina&quot;: false,\n  &quot;tms&quot;: false,\n  &quot;opacity&quot;: 1,\n}\n\n            );\n        \n    \n            tile_layer_158891193f9924107d63a7661f35897c.addTo(map_ac5babf15c08a19ac8f34571e16cbf8c);\n        \n    \n            var image_overlay_2f66faec553e81adf0d80f1b99ea24f0 = L.imageOverlay(\n                &quot;https://earthengine.googleapis.com/v1/projects/edufin-ai-cloud/thumbnails/48c60e5e81d3255ac8f08a0bcdbb3fd5-9f803a7bf149ad2175fa9c89071997a1:getPixels&quot;,\n                [[-12.595, -55.769999999999996], [-12.495, -55.67]],\n                {\n  &quot;opacity&quot;: 0.7,\n}\n            );\n        \n    \n            image_overlay_2f66faec553e81adf0d80f1b99ea24f0.addTo(map_ac5babf15c08a19ac8f34571e16cbf8c);\n        \n    \n            var marker_20aaeca6517191b8e5a6238f6df9ffb0 = L.marker(\n                [-12.545, -55.72],\n                {\n}\n            ).addTo(map_ac5babf15c08a19ac8f34571e16cbf8c);\n        \n    \n            marker_20aaeca6517191b8e5a6238f6df9ffb0.bindTooltip(\n                `&lt;div&gt;\n                     📍 Ponto de análise\n                 &lt;/div&gt;`,\n                {\n  &quot;sticky&quot;: true,\n}\n            );\n        \n&lt;/script&gt;\n&lt;/html&gt;\" style=\"position:absolute;width:100%;height:100%;left:0;top:0;border:none !important;\" allowfullscreen webkitallowfullscreen mozallowfullscreen></iframe></div></div>"
                },
                "metadata": {}
              }
            ]
          }
        },
        "2b6af9766846402aa46301fb6277b598": {
          "model_module": "@jupyter-widgets/base",
          "model_name": "LayoutModel",
          "model_module_version": "1.2.0",
          "state": {
            "_model_module": "@jupyter-widgets/base",
            "_model_module_version": "1.2.0",
            "_model_name": "LayoutModel",
            "_view_count": null,
            "_view_module": "@jupyter-widgets/base",
            "_view_module_version": "1.2.0",
            "_view_name": "LayoutView",
            "align_content": null,
            "align_items": null,
            "align_self": null,
            "border": null,
            "bottom": null,
            "display": null,
            "flex": null,
            "flex_flow": null,
            "grid_area": null,
            "grid_auto_columns": null,
            "grid_auto_flow": null,
            "grid_auto_rows": null,
            "grid_column": null,
            "grid_gap": null,
            "grid_row": null,
            "grid_template_areas": null,
            "grid_template_columns": null,
            "grid_template_rows": null,
            "height": null,
            "justify_content": null,
            "justify_items": null,
            "left": null,
            "margin": null,
            "max_height": null,
            "max_width": null,
            "min_height": null,
            "min_width": null,
            "object_fit": null,
            "object_position": null,
            "order": null,
            "overflow": null,
            "overflow_x": null,
            "overflow_y": null,
            "padding": null,
            "right": null,
            "top": null,
            "visibility": null,
            "width": null
          }
        }
      }
    }
  },
  "cells": [
    {
      "cell_type": "markdown",
      "metadata": {
        "id": "view-in-github",
        "colab_type": "text"
      },
      "source": [
        "<a href=\"https://colab.research.google.com/github/Claudio577/AgroDroneVision/blob/main/AgroDroneVision_Limpo.ipynb\" target=\"_parent\"><img src=\"https://colab.research.google.com/assets/colab-badge.svg\" alt=\"Open In Colab\"/></a>"
      ]
    },
    {
      "cell_type": "code",
      "execution_count": 15,
      "metadata": {
        "colab": {
          "base_uri": "https://localhost:8080/",
          "height": 976,
          "referenced_widgets": [
            "1306d9fe6f0545a39cabc05bcf064818",
            "772a38ff83cb46fabeb9fc7edf82bfa5",
            "deab8d6dba334ba58fc74001994ec059",
            "c5d6fd21cd56470786732119eb19a9fc",
            "01113630b77743968f2709fe8b2c2f98",
            "d785930b2a6645f6bc74911027bf93b3",
            "eebeef25be7d41afb24de68e5562b05f",
            "2a87c31ee8244d01bfb5f330fe623b55",
            "211105f4f04f4f2cab841837534edf1c",
            "7abb371a900e448485d035f9d73ee967",
            "2b6af9766846402aa46301fb6277b598"
          ]
        },
        "id": "RNsfjNvGbe7C",
        "outputId": "9bddbf3d-6987-4044-9bb2-da4d4f7cafac"
      },
      "outputs": [
        {
          "output_type": "display_data",
          "data": {
            "text/plain": [
              "<IPython.core.display.HTML object>"
            ],
            "text/html": [
              "\n",
              "            <style>\n",
              "                .geemap-dark {\n",
              "                    --jp-widgets-color: white;\n",
              "                    --jp-widgets-label-color: white;\n",
              "                    --jp-ui-font-color1: white;\n",
              "                    --jp-layout-color2: #454545;\n",
              "                    background-color: #383838;\n",
              "                }\n",
              "\n",
              "                .geemap-dark .jupyter-button {\n",
              "                    --jp-layout-color3: #383838;\n",
              "                }\n",
              "\n",
              "                .geemap-colab {\n",
              "                    background-color: var(--colab-primary-surface-color, white);\n",
              "                }\n",
              "\n",
              "                .geemap-colab .jupyter-button {\n",
              "                    --jp-layout-color3: var(--colab-primary-surface-color, white);\n",
              "                }\n",
              "            </style>\n",
              "            "
            ]
          },
          "metadata": {}
        },
        {
          "output_type": "stream",
          "name": "stdout",
          "text": [
            "✅ Earth Engine já estava inicializado.\n",
            "\n",
            "🌾 AgroDrone Vision — NDVI com imagens Sentinel-2\n"
          ]
        },
        {
          "output_type": "display_data",
          "data": {
            "text/plain": [
              "FloatText(value=-12.545, description='Latitude:', step=0.01)"
            ],
            "application/vnd.jupyter.widget-view+json": {
              "version_major": 2,
              "version_minor": 0,
              "model_id": "1306d9fe6f0545a39cabc05bcf064818"
            }
          },
          "metadata": {
            "application/vnd.jupyter.widget-view+json": {
              "colab": {
                "custom_widget_manager": {
                  "url": "https://ssl.gstatic.com/colaboratory-static/widgets/colab-cdn-widget-manager/2b70e893a8ba7c0f/manager.min.js"
                }
              }
            }
          }
        },
        {
          "output_type": "display_data",
          "data": {
            "text/plain": [
              "FloatText(value=-55.72, description='Longitude:', step=0.01)"
            ],
            "application/vnd.jupyter.widget-view+json": {
              "version_major": 2,
              "version_minor": 0,
              "model_id": "c5d6fd21cd56470786732119eb19a9fc"
            }
          },
          "metadata": {
            "application/vnd.jupyter.widget-view+json": {
              "colab": {
                "custom_widget_manager": {
                  "url": "https://ssl.gstatic.com/colaboratory-static/widgets/colab-cdn-widget-manager/2b70e893a8ba7c0f/manager.min.js"
                }
              }
            }
          }
        },
        {
          "output_type": "display_data",
          "data": {
            "text/plain": [
              "Button(button_style='success', description='🛰️ Gerar NDVI', style=ButtonStyle())"
            ],
            "application/vnd.jupyter.widget-view+json": {
              "version_major": 2,
              "version_minor": 0,
              "model_id": "eebeef25be7d41afb24de68e5562b05f"
            }
          },
          "metadata": {
            "application/vnd.jupyter.widget-view+json": {
              "colab": {
                "custom_widget_manager": {
                  "url": "https://ssl.gstatic.com/colaboratory-static/widgets/colab-cdn-widget-manager/2b70e893a8ba7c0f/manager.min.js"
                }
              }
            }
          }
        },
        {
          "output_type": "display_data",
          "data": {
            "text/plain": [
              "Output()"
            ],
            "application/vnd.jupyter.widget-view+json": {
              "version_major": 2,
              "version_minor": 0,
              "model_id": "7abb371a900e448485d035f9d73ee967"
            }
          },
          "metadata": {
            "application/vnd.jupyter.widget-view+json": {
              "colab": {
                "custom_widget_manager": {
                  "url": "https://ssl.gstatic.com/colaboratory-static/widgets/colab-cdn-widget-manager/2b70e893a8ba7c0f/manager.min.js"
                }
              }
            }
          }
        }
      ],
      "source": [
        "# ==========================================================\n",
        "# 🌾 AgroDrone Vision — NDVI Interativo (Google Earth Engine)\n",
        "# ==========================================================\n",
        "# Autor: Claudio Hideki Yoshida\n",
        "# Projeto: AgroDroneVisionV2\n",
        "# ==========================================================\n",
        "\n",
        "!pip install ipywidgets folium geemap earthengine-api --quiet\n",
        "\n",
        "import ee\n",
        "import folium\n",
        "import ipywidgets as widgets\n",
        "from IPython.display import display, clear_output, IFrame\n",
        "\n",
        "# ==========================================================\n",
        "# 🔑 Autenticação do Google Earth Engine\n",
        "# ==========================================================\n",
        "try:\n",
        "    ee.Initialize(project='edufin-ai-cloud')\n",
        "    print(\"✅ Earth Engine já estava inicializado.\")\n",
        "except:\n",
        "    ee.Authenticate()\n",
        "    ee.Initialize(project='edufin-ai-cloud')\n",
        "    print(\"🔐 Earth Engine autenticado e inicializado com sucesso!\")\n",
        "\n",
        "# ==========================================================\n",
        "# 🌍 Interface interativa\n",
        "# ==========================================================\n",
        "print(\"\\n🌾 AgroDrone Vision — NDVI com imagens Sentinel-2\")\n",
        "\n",
        "lat_input = widgets.FloatText(value=-12.545, description='Latitude:', step=0.01)\n",
        "lon_input = widgets.FloatText(value=-55.720, description='Longitude:', step=0.01)\n",
        "botao = widgets.Button(description='🛰️ Gerar NDVI', button_style='success')\n",
        "saida = widgets.Output()\n",
        "\n",
        "display(lat_input, lon_input, botao, saida)\n",
        "\n",
        "# ==========================================================\n",
        "# 🛰️ Função principal\n",
        "# ==========================================================\n",
        "def gerar_ndvi(botao):\n",
        "    with saida:\n",
        "        clear_output()\n",
        "        lat = lat_input.value\n",
        "        lon = lon_input.value\n",
        "        print(f\"📍 Gerando NDVI para Latitude={lat}, Longitude={lon}...\")\n",
        "\n",
        "        ponto = ee.Geometry.Point([lon, lat])\n",
        "        colecao = (ee.ImageCollection('COPERNICUS/S2_SR')\n",
        "                   .filterBounds(ponto)\n",
        "                   .filterDate('2025-01-01', '2025-12-31')\n",
        "                   .sort('CLOUDY_PIXEL_PERCENTAGE'))\n",
        "\n",
        "        img = colecao.first()\n",
        "        if img is None:\n",
        "            print(\"⚠️ Nenhuma imagem disponível nesta região.\")\n",
        "            return\n",
        "\n",
        "        ndvi = img.normalizedDifference(['B8', 'B4']).rename('NDVI')\n",
        "\n",
        "        mapa = folium.Map(location=[lat, lon], zoom_start=12)\n",
        "        mapa.add_child(folium.TileLayer('CartoDB positron'))\n",
        "\n",
        "        ndvi_url = ndvi.getThumbURL({\n",
        "            'min': 0, 'max': 1,\n",
        "            'palette': ['red', 'yellow', 'green'],\n",
        "            'region': ponto.buffer(2000)\n",
        "        })\n",
        "\n",
        "        folium.raster_layers.ImageOverlay(\n",
        "            image=ndvi_url,\n",
        "            bounds=[[lat - 0.05, lon - 0.05], [lat + 0.05, lon + 0.05]],\n",
        "            opacity=0.7\n",
        "        ).add_to(mapa)\n",
        "\n",
        "        folium.Marker([lat, lon], tooltip=\"📍 Ponto de análise\").add_to(mapa)\n",
        "\n",
        "        arquivo_html = '/content/NDVI_Mapa.html'\n",
        "        mapa.save(arquivo_html)\n",
        "\n",
        "        print(\"✅ NDVI gerado com sucesso!\")\n",
        "        display(IFrame(arquivo_html, width='100%', height='600'))\n",
        "\n",
        "from google.colab import files\n",
        "\n",
        "# ==========================================================\n",
        "# 🛰️ Função principal — exibe mapa diretamente no Colab\n",
        "# ==========================================================\n",
        "def gerar_ndvi(botao):\n",
        "    with saida:\n",
        "        clear_output()\n",
        "        lat = lat_input.value\n",
        "        lon = lon_input.value\n",
        "        print(f\"📍 Gerando NDVI para Latitude={lat}, Longitude={lon}...\")\n",
        "\n",
        "        # Ponto de referência\n",
        "        ponto = ee.Geometry.Point([lon, lat])\n",
        "\n",
        "        # Coleta imagens Sentinel-2\n",
        "        colecao = (ee.ImageCollection('COPERNICUS/S2_SR')\n",
        "                   .filterBounds(ponto)\n",
        "                   .filterDate('2025-01-01', '2025-12-31')\n",
        "                   .sort('CLOUDY_PIXEL_PERCENTAGE'))\n",
        "\n",
        "        img = colecao.first()\n",
        "        if img is None:\n",
        "            print(\"⚠️ Nenhuma imagem disponível nesta região.\")\n",
        "            return\n",
        "\n",
        "        # Calcula NDVI\n",
        "        ndvi = img.normalizedDifference(['B8', 'B4']).rename('NDVI')\n",
        "\n",
        "        # Cria mapa interativo\n",
        "        mapa = folium.Map(location=[lat, lon], zoom_start=12)\n",
        "        mapa.add_child(folium.TileLayer('CartoDB positron'))\n",
        "\n",
        "        ndvi_url = ndvi.getThumbURL({\n",
        "            'min': 0, 'max': 1,\n",
        "            'palette': ['red', 'yellow', 'green'],\n",
        "            'region': ponto.buffer(2000)\n",
        "        })\n",
        "\n",
        "        folium.raster_layers.ImageOverlay(\n",
        "            image=ndvi_url,\n",
        "            bounds=[[lat - 0.05, lon - 0.05], [lat + 0.05, lon + 0.05]],\n",
        "            opacity=0.7\n",
        "        ).add_to(mapa)\n",
        "\n",
        "        folium.Marker([lat, lon], tooltip=\"📍 Ponto de análise\").add_to(mapa)\n",
        "\n",
        "        print(\"✅ NDVI gerado com sucesso! Exibindo mapa abaixo 👇\")\n",
        "        display(mapa)  # <-- exibe o mapa diretamente no Colab\n",
        "\n",
        "# ==========================================================\n",
        "# 🔗 Conecta o botão à função\n",
        "# ==========================================================\n",
        "botao.on_click(gerar_ndvi)\n"
      ]
    },
    {
      "cell_type": "code",
      "source": [
        "import ee\n",
        "ee.Authenticate()\n"
      ],
      "metadata": {
        "colab": {
          "base_uri": "https://localhost:8080/",
          "height": 35
        },
        "id": "sWpBTW0bk8t9",
        "outputId": "1336ea89-bad2-40c7-858e-9ffa4e62431d"
      },
      "execution_count": 7,
      "outputs": [
        {
          "output_type": "display_data",
          "data": {
            "text/plain": [
              "<IPython.core.display.HTML object>"
            ],
            "text/html": [
              "\n",
              "            <style>\n",
              "                .geemap-dark {\n",
              "                    --jp-widgets-color: white;\n",
              "                    --jp-widgets-label-color: white;\n",
              "                    --jp-ui-font-color1: white;\n",
              "                    --jp-layout-color2: #454545;\n",
              "                    background-color: #383838;\n",
              "                }\n",
              "\n",
              "                .geemap-dark .jupyter-button {\n",
              "                    --jp-layout-color3: #383838;\n",
              "                }\n",
              "\n",
              "                .geemap-colab {\n",
              "                    background-color: var(--colab-primary-surface-color, white);\n",
              "                }\n",
              "\n",
              "                .geemap-colab .jupyter-button {\n",
              "                    --jp-layout-color3: var(--colab-primary-surface-color, white);\n",
              "                }\n",
              "            </style>\n",
              "            "
            ]
          },
          "metadata": {}
        },
        {
          "output_type": "execute_result",
          "data": {
            "text/plain": [
              "True"
            ]
          },
          "metadata": {},
          "execution_count": 7
        }
      ]
    },
    {
      "cell_type": "code",
      "source": [
        "ee.Initialize(project='edufin-ai-cloud')\n"
      ],
      "metadata": {
        "colab": {
          "base_uri": "https://localhost:8080/",
          "height": 17
        },
        "id": "nPggkjG0lBfE",
        "outputId": "05b898f7-d03b-4128-d520-75eb0a455ddc"
      },
      "execution_count": 8,
      "outputs": [
        {
          "output_type": "display_data",
          "data": {
            "text/plain": [
              "<IPython.core.display.HTML object>"
            ],
            "text/html": [
              "\n",
              "            <style>\n",
              "                .geemap-dark {\n",
              "                    --jp-widgets-color: white;\n",
              "                    --jp-widgets-label-color: white;\n",
              "                    --jp-ui-font-color1: white;\n",
              "                    --jp-layout-color2: #454545;\n",
              "                    background-color: #383838;\n",
              "                }\n",
              "\n",
              "                .geemap-dark .jupyter-button {\n",
              "                    --jp-layout-color3: #383838;\n",
              "                }\n",
              "\n",
              "                .geemap-colab {\n",
              "                    background-color: var(--colab-primary-surface-color, white);\n",
              "                }\n",
              "\n",
              "                .geemap-colab .jupyter-button {\n",
              "                    --jp-layout-color3: var(--colab-primary-surface-color, white);\n",
              "                }\n",
              "            </style>\n",
              "            "
            ]
          },
          "metadata": {}
        }
      ]
    }
  ]
}