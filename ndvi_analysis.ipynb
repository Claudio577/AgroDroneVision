{
  "nbformat": 4,
  "nbformat_minor": 0,
  "metadata": {
    "colab": {
      "provenance": [],
      "authorship_tag": "ABX9TyOU4uUEp3RVMql+RPZLOMmH",
      "include_colab_link": true
    },
    "kernelspec": {
      "name": "python3",
      "display_name": "Python 3"
    },
    "language_info": {
      "name": "python"
    }
  },
  "cells": [
    {
      "cell_type": "markdown",
      "metadata": {
        "id": "view-in-github",
        "colab_type": "text"
      },
      "source": [
        "<a href=\"https://colab.research.google.com/github/Claudio577/AgroDroneVision/blob/main/ndvi_analysis.ipynb\" target=\"_parent\"><img src=\"https://colab.research.google.com/assets/colab-badge.svg\" alt=\"Open In Colab\"/></a>"
      ]
    },
    {
      "cell_type": "code",
      "execution_count": null,
      "metadata": {
        "id": "eZhh8gFcRLKj"
      },
      "outputs": [],
      "source": [
        "# ===================================================\n",
        "# 🌾 AgroDrone Vision - NDVI Analysis (Sentinel-2)\n",
        "# ===================================================\n",
        "\n",
        "# Instalar dependências\n",
        "!pip install rasterio geopandas tensorflow folium geemap -q\n",
        "\n",
        "# Importações principais\n",
        "import ee\n",
        "import folium\n",
        "import geemap\n",
        "\n",
        "# =============================\n",
        "# 🌎 Autenticar Earth Engine\n",
        "# =============================\n",
        "try:\n",
        "    ee.Initialize()\n",
        "    print(\"✅ Earth Engine já estava autenticado.\")\n",
        "except Exception as e:\n",
        "    print(\"🔑 Autenticando Earth Engine...\")\n",
        "    ee.Authenticate()\n",
        "    ee.Initialize()\n",
        "    print(\"✅ Earth Engine conectado com sucesso!\")\n",
        "\n",
        "# --- Definir área de interesse (exemplo: Paraná) ---\n",
        "area = ee.Geometry.Rectangle([-51.3, -23.6, -51.2, -23.5])\n",
        "\n",
        "# --- Buscar imagem Sentinel-2 mais recente ---\n",
        "image = (ee.ImageCollection('COPERNICUS/S2_SR')\n",
        "         .filterBounds(area)\n",
        "         .filterDate('2025-08-01', '2025-08-10')\n",
        "         .sort('CLOUD_COVER')\n",
        "         .first())\n",
        "\n",
        "# --- Calcular NDVI ---\n",
        "ndvi = image.normalizedDifference(['B8', 'B4']).rename('NDVI')\n",
        "\n",
        "# --- Visualizar no mapa ---\n",
        "Map = geemap.Map(center=[-23.55, -51.25], zoom=13)\n",
        "Map.addLayer(ndvi, {'min': 0, 'max': 1, 'palette': ['red', 'yellow', 'green']}, 'NDVI')\n",
        "Map.addLayerControl()\n",
        "Map\n"
      ]
    },
    {
      "cell_type": "code",
      "source": [
        "# =======================================================\n",
        "# 🌎 Autenticar e inicializar Earth Engine (com projeto)\n",
        "# =======================================================\n",
        "!pip install earthengine-api -q\n",
        "\n",
        "import ee\n",
        "\n",
        "# 🔐 Autenticação\n",
        "ee.Authenticate()\n",
        "\n",
        "# 🌍 Inicialização com o nome do projeto\n",
        "ee.Initialize(project='edufin-ai-cloud', opt_url='https://earthengine-highvolume.googleapis.com')\n",
        "\n",
        "print(\"✅ Earth Engine conectado com sucesso ao projeto edufin-ai-cloud!\")\n"
      ],
      "metadata": {
        "id": "BnHQhoxAXHlL"
      },
      "execution_count": null,
      "outputs": []
    },
    {
      "cell_type": "code",
      "source": [
        "# =======================================================\n",
        "# 🌎 Earth Engine - Configuração final (correta)\n",
        "# =======================================================\n",
        "!pip install earthengine-api -q\n",
        "\n",
        "import ee\n",
        "ee.Authenticate()  # Vai abrir o link — faça login e cole o código\n",
        "\n",
        "# 🟢 Inicialização com nome do projeto\n",
        "ee.Initialize(project='edufin-ai-cloud')\n",
        "\n",
        "# 🔍 Teste de conexão\n",
        "img = ee.ImageCollection('COPERNICUS/S2_SR').first()\n",
        "print(\"✅ Conectado! Imagem de exemplo:\", img.id().getInfo())\n"
      ],
      "metadata": {
        "id": "gJMt93lpXQ8n"
      },
      "execution_count": null,
      "outputs": []
    },
    {
      "cell_type": "code",
      "source": [
        "# =======================================================\n",
        "# 🌾 AgroDrone Vision — NDVI (Sentinel-2)\n",
        "# =======================================================\n",
        "!pip install folium geemap -q\n",
        "\n",
        "import geemap, folium, ee\n",
        "\n",
        "# 🟢 Reusar a sessão autenticada\n",
        "ee.Initialize(project='edufin-ai-cloud')\n",
        "\n",
        "# --- Definir área de interesse (exemplo: Paraná) ---\n",
        "area = ee.Geometry.Rectangle([-51.3, -23.6, -51.2, -23.5])\n",
        "\n",
        "# --- Buscar imagem Sentinel-2 mais recente ---\n",
        "image = (ee.ImageCollection('COPERNICUS/S2_SR_HARMONIZED')\n",
        "         .filterBounds(area)\n",
        "         .filterDate('2025-08-01', '2025-08-10')\n",
        "         .sort('CLOUD_COVER')\n",
        "         .first())\n",
        "\n",
        "# --- Calcular NDVI ---\n",
        "ndvi = image.normalizedDifference(['B8', 'B4']).rename('NDVI')\n",
        "\n",
        "# --- Criar mapa ---\n",
        "Map = geemap.Map(center=[-23.55, -51.25], zoom=12)\n",
        "Map.addLayer(ndvi, {'min': 0, 'max': 1, 'palette': ['red', 'yellow', 'green']}, 'NDVI')\n",
        "Map.addLayerControl()\n",
        "Map\n"
      ],
      "metadata": {
        "id": "SBjetttvXiK8"
      },
      "execution_count": null,
      "outputs": []
    },
    {
      "cell_type": "code",
      "source": [
        "import ee\n",
        "ee.Initialize(project='edufin-ai-cloud')\n",
        "print(\"✅ Conexão Earth Engine OK\")\n"
      ],
      "metadata": {
        "id": "rYS42RBwYWxN"
      },
      "execution_count": null,
      "outputs": []
    },
    {
      "cell_type": "code",
      "source": [
        "# =======================================================\n",
        "# 🌾 AgroDrone Vision — Teste NDVI (Versão Estável)\n",
        "# =======================================================\n",
        "!pip install geemap -q\n",
        "\n",
        "import ee, geemap\n",
        "\n",
        "# 🔹 Inicializa o Earth Engine\n",
        "try:\n",
        "    ee.Initialize(project='edufin-ai-cloud')\n",
        "    print(\"✅ Earth Engine conectado com sucesso!\")\n",
        "except:\n",
        "    print(\"🔑 Reautenticando...\")\n",
        "    ee.Authenticate()\n",
        "    ee.Initialize(project='edufin-ai-cloud')\n",
        "    print(\"✅ Earth Engine reconectado com sucesso!\")\n",
        "\n",
        "# 🔹 Define área de teste — Maringá (Paraná)\n",
        "area = ee.Geometry.Rectangle([-51.97, -23.45, -51.85, -23.35])\n",
        "\n",
        "# 🔹 Busca imagem Sentinel-2 harmonizada e recente\n",
        "image = (ee.ImageCollection('COPERNICUS/S2_SR_HARMONIZED')\n",
        "         .filterBounds(area)\n",
        "         .filterDate('2025-08-01', '2025-08-10')\n",
        "         .sort('CLOUD_COVER')\n",
        "         .first())\n",
        "\n",
        "print(\"📸 Imagem carregada:\", image.id().getInfo())\n",
        "\n",
        "# 🔹 Calcula NDVI\n",
        "ndvi = image.normalizedDifference(['B8', 'B4']).rename('NDVI')\n",
        "print(\"🌱 NDVI calculado!\")\n",
        "\n",
        "# 🔹 Cria mapa interativo\n",
        "Map = geemap.Map(center=[-23.4, -51.9], zoom=12)\n",
        "Map.addLayer(ndvi, {'min': 0, 'max': 1, 'palette': ['red', 'yellow', 'green']}, 'NDVI')\n",
        "Map.addLayerControl()\n",
        "Map\n"
      ],
      "metadata": {
        "id": "cyRhRVQUY3r7"
      },
      "execution_count": null,
      "outputs": []
    }
  ]
}